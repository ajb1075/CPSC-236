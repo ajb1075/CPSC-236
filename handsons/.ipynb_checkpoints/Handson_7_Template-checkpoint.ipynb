{
 "cells": [
  {
   "cell_type": "markdown",
   "metadata": {},
   "source": [
    "# Exceptions\n",
    "\n",
    "To submit this assignment in D2l, post the link to your notebook file on your GitHub account."
   ]
  },
  {
   "cell_type": "markdown",
   "metadata": {},
   "source": [
    "## 8.1 Tip Calculator\n",
    "Add exception handling to a Tip Calculator program.\n",
    "\n",
    "### Console:\n",
    "```powershell\n",
    "Tip Calculator\n",
    "\n",
    "INPUT\n",
    "Cost of meal: ten\n",
    "Must be valid decimal number. Please try again. \n",
    "Cost of meal: -10\n",
    "Must be greater than 0. Please try again. \n",
    "Cost of meal: 52.31\n",
    "Tip percent:\t17.5\n",
    "Must be valid integer. Please try again. \n",
    "Tip percent:\t20\n",
    "\n",
    "OUTPUT\n",
    "Cost of meal:   52.31 \n",
    "Tip percent:    20%\n",
    "Tip amount:     10.46\n",
    "Total amount:   62.77\n",
    "```\n",
    "\n",
    "### Specifications:\n",
    "- The program should accept **decimal** entries like 52.31 and 15.5 for the cost of the meal.\n",
    "- The program should accept **integer** entries like 15, 20, 25 for the tip percent.\n",
    "- The program should validate both user entries. That way, the user can’t crash the program by entering invalid data.\n",
    "- The program should only accept numbers that are **greater than 0**.\n",
    "- The program should round results to a maximum of two decimal places.\n"
   ]
  },
  {
   "cell_type": "code",
   "execution_count": 11,
   "metadata": {},
   "outputs": [
    {
     "name": "stdout",
     "output_type": "stream",
     "text": [
      "Tip Calculator\n",
      "\n",
      "INPUT\n"
     ]
    },
    {
     "name": "stdin",
     "output_type": "stream",
     "text": [
      "Cost of meal:  ten\n"
     ]
    },
    {
     "name": "stdout",
     "output_type": "stream",
     "text": [
      "Must be valid decimal number. Please try again.\n"
     ]
    },
    {
     "name": "stdin",
     "output_type": "stream",
     "text": [
      "Cost of meal:  -10\n"
     ]
    },
    {
     "name": "stdout",
     "output_type": "stream",
     "text": [
      "Must be greater than 0. Please try again.\n"
     ]
    },
    {
     "name": "stdin",
     "output_type": "stream",
     "text": [
      "Cost of meal:  52.31\n",
      "Tip percent:  17.5\n"
     ]
    },
    {
     "name": "stdout",
     "output_type": "stream",
     "text": [
      "Must be valid integer. Please try again.\n"
     ]
    },
    {
     "name": "stdin",
     "output_type": "stream",
     "text": [
      "Tip percent:  20\n"
     ]
    },
    {
     "name": "stdout",
     "output_type": "stream",
     "text": [
      "\n",
      "OUTPUT\n",
      "Cost of meal: 52.31\n",
      "Tip percent: 20%\n",
      "Tip amount: 10.46\n",
      "Total amount: 62.77\n"
     ]
    }
   ],
   "source": [
    "class LessThanZeroError(ValueError):\n",
    "    pass\n",
    "\n",
    "class NotValidIntegerError(ValueError):\n",
    "    pass\n",
    "\n",
    "class NotValidDecimalError(ValueError):\n",
    "    pass\n",
    "\n",
    "cost = 0\n",
    "tip = 0\n",
    "\n",
    "def main():\n",
    "    print(\"Tip Calculator\\n\\nINPUT\")\n",
    "    while True:\n",
    "        try:\n",
    "            cost = input(\"Cost of meal: \")\n",
    "            try:\n",
    "                cost = float(cost)\n",
    "            except:\n",
    "                raise NotValidDecimalError()\n",
    "                \n",
    "            if cost < 0: \n",
    "                raise LessThanZeroError()            \n",
    "        except LessThanZeroError:\n",
    "            print(\"Must be greater than 0. Please try again.\")\n",
    "            continue\n",
    "        except NotValidDecimalError:\n",
    "            print(\"Must be valid decimal number. Please try again.\")\n",
    "            continue\n",
    "        else:\n",
    "            break\n",
    "    \n",
    "    while True:\n",
    "        try:\n",
    "            tip = input(\"Tip percent: \")\n",
    "            try:\n",
    "                tipf = float(tip)\n",
    "\n",
    "                if tipf != int(tip):\n",
    "                    raise ValueError()\n",
    "                    \n",
    "                tip = int(tip)\n",
    "            except:\n",
    "                raise NotValidIntegerError()\n",
    "\n",
    "            if tip < 0:\n",
    "                raise LessThanZeroError()\n",
    "        except LessThanZeroError:\n",
    "            print(\"Must be greater than 0. Please try again.\")\n",
    "            continue\n",
    "        except NotValidIntegerError:\n",
    "            print(\"Must be valid integer. Please try again.\")\n",
    "            continue\n",
    "        else:\n",
    "            break\n",
    "\n",
    "    tip_amount = tip * cost * 0.01\n",
    "    total = cost + tip_amount\n",
    "    print(f\"\\nOUTPUT\\nCost of meal: {cost:.2f}\\nTip percent: {tip}%\\nTip amount: {tip_amount:.2f}\\nTotal amount: {total:.2f}\")\n",
    "\n",
    "if __name__ == '__main__':\n",
    "    main()"
   ]
  },
  {
   "cell_type": "markdown",
   "metadata": {},
   "source": [
    "## 8.2 Wizard Inventory\n",
    "\n",
    "Add exception handling to a program that keeps track of the inventory of items that a wizard can carry. If you still have Wizard Inventory from Handson_5, you can add the exception handling to that program. Otherwise, you can start this program from scratch.\n",
    "\n",
    "### Console if the program can't find the **inventory** file:\n",
    "```powershell\n",
    "The Wizard Inventory program\n",
    "\n",
    "COMMAND MENU\n",
    "walk - Walk down the path \n",
    "show - Show all items \n",
    "drop - Drop an item\n",
    "exit - Exit program\n",
    "\n",
    "Could not find inventory file!\n",
    "Wizard is starting with no inventory.\n",
    "\n",
    "Command: walk\n",
    "While walking down a path, you see a crossbow.\n",
    "Do you want to grab it? (y/n): y\n",
    "You picked up a crossbow.\n",
    "\n",
    "Command: show\n",
    "1. a crossbow\n",
    "\n",
    "Command: drop Number: x\n",
    "Invalid item number.\n",
    "```\n",
    "\n",
    "### The error message if the program can’t find the **items** file:\n",
    "```powershell\n",
    "Could not find items file.\t\n",
    "Exiting program. Bye!\t\n",
    "```\n",
    "\n",
    "### Specifications:\n",
    "- This program should read the text file named `wizard_all_items.txt` that contains all the items a wizard can carry.\n",
    "- When the user selects the walk command, the program should randomly pick one of the items that were read from the text file and give the user the option to grab it.\n",
    "- The current items that the wizard is carrying should be saved in an inventory file. Make sure to update this file every time the user grabs or drops an item.\n",
    "- The wizard can only carry four items at a time. For the drop command, display an error message if the user enters an invalid integer or an integer that doesn’t correspond with an item.\n",
    "- Handle all exceptions that might occur so that the user can’t cause the program to crash. If the all items file is missing, display an appropriate error message and exit the program.\n",
    "- If the inventory file is missing, display an appropriate error message and continue with an empty inventory for the user. That way, the program will write a new inventory file when the user adds items to the inventory."
   ]
  },
  {
   "cell_type": "code",
   "execution_count": 1,
   "metadata": {},
   "outputs": [
    {
     "name": "stdout",
     "output_type": "stream",
     "text": [
      "Could not find items file.\n",
      "Exiting program. Bye!\n"
     ]
    },
    {
     "ename": "SystemExit",
     "evalue": "",
     "output_type": "error",
     "traceback": [
      "An exception has occurred, use %tb to see the full traceback.\n",
      "\u001b[1;31mSystemExit\u001b[0m\n"
     ]
    },
    {
     "name": "stderr",
     "output_type": "stream",
     "text": [
      "C:\\Users\\antiv\\anaconda3\\Lib\\site-packages\\IPython\\core\\interactiveshell.py:3585: UserWarning: To exit: use 'exit', 'quit', or Ctrl-D.\n",
      "  warn(\"To exit: use 'exit', 'quit', or Ctrl-D.\", stacklevel=1)\n"
     ]
    }
   ],
   "source": [
    "from random import choice\n",
    "import sys\n",
    "\n",
    "item_types = []\n",
    "inventory = []\n",
    "\n",
    "try:\n",
    "    with open(\"wizard_all_items.txt\", 'r') as i:\n",
    "        item_types = i.read().split('\\n')\n",
    "except:\n",
    "    print(\"Could not find items file.\\nExiting program. Bye!\")\n",
    "    sys.exit()\n",
    "\n",
    "try:\n",
    "    with open(\"wizard_inventory.txt\", 'r') as i:\n",
    "        inventory = i.read().split('\\n')\n",
    "except Exception:\n",
    "    print(\"Could not find inventory file!\\nWizard is starting with no inventory.\")\n",
    "\n",
    "def walk():\n",
    "    item = choice(item_types)\n",
    "    print(f\"While walking down a path, you see {item}.\")\n",
    "    if input(\"Do you want to grab it? (y/n):\").lower() == 'y' and len(inventory) < 4:\n",
    "        with open(\"wizard_inventory\", \"w\") as i:\n",
    "            inventory.append(item)\n",
    "            i.write('\\n'.join(inventory))\n",
    "            print(f\"You picked up {item}.\")\n",
    "    elif len(inventory) >= 4:\n",
    "        print(\"You can't carry any more items. Drop something first.\")\n",
    "    else:\n",
    "        print(\"You kept on walking.\")\n",
    "\n",
    "def show():\n",
    "    for idx, item in enumerate(inventory):\n",
    "        print(f\"{idx + 1}.\\t{item}\")\n",
    "\n",
    "def drop():\n",
    "    idx = int(input(\"Number: \"))\n",
    "    if not 1 <= idx < len(inventory):\n",
    "        print(\"Index is not an item or is out of range.\")\n",
    "    else:\n",
    "        with open(\"wizard_inventory\", \"w\") as i:\n",
    "            i.write('\\n'.join(item := inventory.pop(idx - 1)))\n",
    "            print(f\"You dropped {item}.\")\n",
    "\n",
    "def main():\n",
    "    print(\"Wizard Inventory Program\\n\\nCOMMAND MENU\\nwalk - walk down the path\\nshow - show all items\\ndrop - drop an item\\nexit - exit program\")\n",
    "    while True:\n",
    "        command = input(\"\\nCommand: \")\n",
    "        match command:\n",
    "            case 'walk': walk()\n",
    "            case 'show': show()\n",
    "            case 'drop': drop()\n",
    "            case 'exit': break\n",
    "            case _: print(\"Not a valid command.\")\n",
    "    print(\"\\nBye!\")\n",
    "\n",
    "if __name__ == '__main__':\n",
    "    main()"
   ]
  },
  {
   "cell_type": "code",
   "execution_count": null,
   "metadata": {},
   "outputs": [],
   "source": []
  }
 ],
 "metadata": {
  "kernelspec": {
   "display_name": "Python 3 (ipykernel)",
   "language": "python",
   "name": "python3"
  },
  "language_info": {
   "codemirror_mode": {
    "name": "ipython",
    "version": 3
   },
   "file_extension": ".py",
   "mimetype": "text/x-python",
   "name": "python",
   "nbconvert_exporter": "python",
   "pygments_lexer": "ipython3",
   "version": "3.12.7"
  }
 },
 "nbformat": 4,
 "nbformat_minor": 4
}
