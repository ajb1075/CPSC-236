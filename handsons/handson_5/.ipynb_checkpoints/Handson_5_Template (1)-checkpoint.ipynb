{
 "cells": [
  {
   "cell_type": "markdown",
   "metadata": {},
   "source": [
    "# File Input\n",
    "\n",
    "To submit this assignment in D2l, post the link to your notebook file on your GitHub account."
   ]
  },
  {
   "cell_type": "markdown",
   "metadata": {},
   "source": [
    "## 7.1 Pig Dice Rules\n",
    "Create a program that reads a list of rules from a file and displays them.\n",
    "\n",
    "### Console:\n",
    "```powershell\n",
    "Pig Dice Rules:\n",
    "*\tSee how many turns it takes you to get to 20.\n",
    "*\tTurn ends when player rolls a 1 or chooses to hold.\n",
    "*\tIf you roll a 1, you lose all points earned during the turn.\n",
    "*\tIf you hold, you save all points earned during the turn.\n",
    "```\n",
    "\n",
    "### Specifications:\n",
    "- Use the attached text file named `pig_dice_rules.txt` in the corresponding Directory.\n",
    "- Your program should read the text file and display it on the console.\n"
   ]
  },
  {
   "cell_type": "code",
   "execution_count": 5,
   "metadata": {},
   "outputs": [
    {
     "name": "stdout",
     "output_type": "stream",
     "text": [
      "Pig Dice Rules:\n",
      "* See how many turns it takes you to get to 20.\n",
      "* Turn ends when player rolls a 1 or chooses to hold.\n",
      "* If you roll a 1, you lose all points earned during the turn.\n",
      "* If you hold, you save all points earned during the turn.\n"
     ]
    }
   ],
   "source": [
    "with open('pig_dice_rules.txt', 'r') as f: print(f.read())"
   ]
  },
  {
   "cell_type": "markdown",
   "metadata": {},
   "source": [
    "## 7.2 Wizard Inventory\n",
    "Create a program that keeps track of the items that a wizard can carry.\n",
    "\n",
    "### Console:\n",
    "```powershell\n",
    "The Wizard Inventroy Program\n",
    "\n",
    "COMMAND MENU\n",
    "walk - Walk down the path \n",
    "show - Show all items \n",
    "drop - Drop an item\n",
    "exit - Exit program\n",
    "\n",
    "Command: walk\n",
    "While walking down a path, you see a scroll of uncursing. \n",
    "Do you want to grab it? (y/n): y\n",
    "You picked up a scroll of uncursing.\n",
    "\n",
    "Command: walk\n",
    "While walking down a path, you see an unknown potion. \n",
    "Do you want to grab it? (y/n): y\n",
    "You can't carry any more items. Drop something first.\n",
    "\n",
    "Command: show\n",
    "1.\ta wooden staff\n",
    "2.\ta scroll of invisibility\n",
    "3.\ta crossbow\n",
    "4.\ta scroll of uncursing\n",
    "\n",
    "Command: drop Number: 3\n",
    "You dropped a crossbow.\n",
    "\n",
    "Command: exit \n",
    "Bye!\n",
    "```\n",
    "\n",
    "### Specifications:\n",
    "- Use the attached text file named `wizard_all_items.txt` that contains a list of all the items that a wizard can carry. (in the corresponding directory)\n",
    "- When the user selects the walk command, the program should read the items from the file, randomly pick one, and give the user the option to grab it.\n",
    "- Your program should create another file that stores the items that the wizard is carrying (`wizard_inventory.txt`). Make sure to update this file every time the user grabs or drops an item.\n",
    "- The wizard can only carry **four** items at a time.\n",
    "- For the drop command, display an error message if the user enters an invalid number for the item.\n",
    "\n"
   ]
  },
  {
   "cell_type": "code",
   "execution_count": 47,
   "metadata": {},
   "outputs": [
    {
     "name": "stdout",
     "output_type": "stream",
     "text": [
      "Wizard Inventory Program\n",
      "\n",
      "COMMAND MENU\n",
      "walk - walk down the path\n",
      "show - show all items\n",
      "drop - drop an item\n",
      "exit - exit program\n"
     ]
    },
    {
     "name": "stdin",
     "output_type": "stream",
     "text": [
      "\n",
      "Command:  show\n"
     ]
    },
    {
     "name": "stdout",
     "output_type": "stream",
     "text": [
      "1.\ta wooden staff\n",
      "2.\ta scroll of invisibility\n",
      "3.\ta crossbow\n"
     ]
    },
    {
     "name": "stdin",
     "output_type": "stream",
     "text": [
      "\n",
      "Command:  walk\n"
     ]
    },
    {
     "name": "stdout",
     "output_type": "stream",
     "text": [
      "While walking down a path, you see an unknown potion.\n"
     ]
    },
    {
     "name": "stdin",
     "output_type": "stream",
     "text": [
      "Do you want to grab it? (y/n): y\n"
     ]
    },
    {
     "name": "stdout",
     "output_type": "stream",
     "text": [
      "You picked up an unknown potion.\n"
     ]
    },
    {
     "name": "stdin",
     "output_type": "stream",
     "text": [
      "\n",
      "Command:  walk\n"
     ]
    },
    {
     "name": "stdout",
     "output_type": "stream",
     "text": [
      "While walking down a path, you see an unknown potion.\n"
     ]
    },
    {
     "name": "stdin",
     "output_type": "stream",
     "text": [
      "Do you want to grab it? (y/n): y\n"
     ]
    },
    {
     "name": "stdout",
     "output_type": "stream",
     "text": [
      "You can't carry any more items. Drop something first.\n"
     ]
    },
    {
     "name": "stdin",
     "output_type": "stream",
     "text": [
      "\n",
      "Command:  show\n"
     ]
    },
    {
     "name": "stdout",
     "output_type": "stream",
     "text": [
      "1.\ta wooden staff\n",
      "2.\ta scroll of invisibility\n",
      "3.\ta crossbow\n",
      "4.\tan unknown potion\n"
     ]
    },
    {
     "name": "stdin",
     "output_type": "stream",
     "text": [
      "\n",
      "Command:  drop\n",
      "Number:  3\n"
     ]
    },
    {
     "name": "stdout",
     "output_type": "stream",
     "text": [
      "You dropped a crossbow.\n"
     ]
    },
    {
     "name": "stdin",
     "output_type": "stream",
     "text": [
      "\n",
      "Command:  show\n"
     ]
    },
    {
     "name": "stdout",
     "output_type": "stream",
     "text": [
      "1.\ta wooden staff\n",
      "2.\ta scroll of invisibility\n",
      "3.\tan unknown potion\n"
     ]
    },
    {
     "name": "stdin",
     "output_type": "stream",
     "text": [
      "\n",
      "Command:  exit\n"
     ]
    },
    {
     "name": "stdout",
     "output_type": "stream",
     "text": [
      "\n",
      "Bye!\n"
     ]
    }
   ],
   "source": [
    "from random import choice\n",
    "\n",
    "item_types = []\n",
    "inventory = []\n",
    "\n",
    "with open(\"wizard_all_items.txt\", 'r') as i:\n",
    "    item_types = i.read().split('\\n')\n",
    "\n",
    "try:\n",
    "    with open(\"wizard_inventory.txt\", 'r') as i:\n",
    "        inventory = i.read().split('\\n')\n",
    "except Exception:\n",
    "    inventory = ['a wooden staff', 'a scroll of invisibility', 'a crossbow']\n",
    "\n",
    "def walk():\n",
    "    item = choice(item_types)\n",
    "    print(f\"While walking down a path, you see {item}.\")\n",
    "    if input(\"Do you want to grab it? (y/n):\").lower() == 'y' and len(inventory) < 4:\n",
    "        with open(\"wizard_inventory\", \"w\") as i:\n",
    "            inventory.append(item)\n",
    "            i.write('\\n'.join(inventory))\n",
    "            print(f\"You picked up {item}.\")\n",
    "    elif len(inventory) >= 4:\n",
    "        print(\"You can't carry any more items. Drop something first.\")\n",
    "    else:\n",
    "        print(\"You kept on walking.\")\n",
    "\n",
    "def show():\n",
    "    for idx, item in enumerate(inventory):\n",
    "        print(f\"{idx + 1}.\\t{item}\")\n",
    "\n",
    "def drop():\n",
    "    idx = int(input(\"Number: \"))\n",
    "    if not 1 <= idx < len(inventory):\n",
    "        print(\"Index is not an item or is out of range.\")\n",
    "    else:\n",
    "        with open(\"wizard_inventory\", \"w\") as i:\n",
    "            i.write('\\n'.join(item := inventory.pop(idx - 1)))\n",
    "            print(f\"You dropped {item}.\")\n",
    "\n",
    "def main():\n",
    "    print(\"Wizard Inventory Program\\n\\nCOMMAND MENU\\nwalk - walk down the path\\nshow - show all items\\ndrop - drop an item\\nexit - exit program\")\n",
    "    while True:\n",
    "        command = input(\"\\nCommand: \")\n",
    "        match command:\n",
    "            case 'walk': walk()\n",
    "            case 'show': show()\n",
    "            case 'drop': drop()\n",
    "            case 'exit': break\n",
    "            case _: print(\"Not a valid command.\")\n",
    "    print(\"\\nBye!\")\n",
    "\n",
    "if __name__ == '__main__':\n",
    "    main()"
   ]
  },
  {
   "cell_type": "markdown",
   "metadata": {},
   "source": [
    "## 7.3 Monthly Sales\n",
    "Create a program that reads the sales for 12 months from a file and calculates the total yearly sales as well as the average monthly sales. In addition, this program should let the user edit the sales for any month.\n",
    "\n",
    "### Console:\n",
    "```powershell\n",
    "Monthly Sales program\n",
    "\n",
    "COMMAND MENU\n",
    "monthly - View monthly sales \n",
    "yearly\t- View yearly sumary \n",
    "edit\t- Edit sales for a month \n",
    "exit\t- Exit program\n",
    "\n",
    "Command: monthly \n",
    "Jan - 14317\n",
    "Feb - 3903\n",
    "Mar - 1073\n",
    "Apr - 3463\n",
    "May - 2429\n",
    "Jun - 4324\n",
    "Jul - 9762\n",
    "Aug - 15578\n",
    "Sep - 2437\n",
    "Oct - 6735\n",
    "Nov - 88\n",
    "Dec - 2497\n",
    "\n",
    "Command: yearly\n",
    "Yearly total:\t66606\n",
    "Monthly average:\t5550.5\n",
    "\n",
    "Command: edit\n",
    "Three-letter Month: Nov Sales Amount: 8854\n",
    "Sales amount for Nov was modified.\n",
    "\n",
    "Command: exit Bye!\n",
    "```\n",
    "\n",
    "### Specifications:\n",
    "- Use the attached text file named CSV file named `monthly_sales.csv` that contains the month and sales data shown above.\n",
    "- For the edit command, display an error message if the user doesn’t enter a valid three-letter abbreviation for the month.\n",
    "- When the user edits the sales amount for a month, the data should be saved to the CSV file immediately. That way, no data is lost, even if the program crashes later.\n",
    "- Round the results of the monthly average to a maximum of 2 decimal digits."
   ]
  },
  {
   "cell_type": "code",
   "execution_count": 65,
   "metadata": {},
   "outputs": [
    {
     "name": "stdout",
     "output_type": "stream",
     "text": [
      "Monthly Sales Program\n",
      "\n",
      "COMMAND MENU\n",
      "monthly - View monthly sales\n",
      "yearly - View yearly summary\n",
      "edit - Edit sales for a month\n",
      "exit - Exit program\n"
     ]
    },
    {
     "name": "stdin",
     "output_type": "stream",
     "text": [
      "\n",
      "Command:  monthly\n"
     ]
    },
    {
     "name": "stdout",
     "output_type": "stream",
     "text": [
      "Jan - 14317\n",
      "Feb - 3903\n",
      "Mar - 1073\n",
      "Apr - 3463\n",
      "May - 2429\n",
      "Jun - 4324\n",
      "Jul - 9762\n",
      "Aug - 15578\n",
      "Sep - 2437\n",
      "Oct - 6735\n",
      "Nov - 88\n",
      "Dec - 2497\n"
     ]
    },
    {
     "name": "stdin",
     "output_type": "stream",
     "text": [
      "\n",
      "Command:  yearly\n"
     ]
    },
    {
     "name": "stdout",
     "output_type": "stream",
     "text": [
      "Yearly total:\t66606\n",
      "Monthly average:\t5550.50\n"
     ]
    },
    {
     "name": "stdin",
     "output_type": "stream",
     "text": [
      "\n",
      "Command:  edit\n",
      "Three-letter Month:  nov\n",
      "Sales Amount:  8854\n"
     ]
    },
    {
     "name": "stdout",
     "output_type": "stream",
     "text": [
      "Sales amount for Dec was modified.\n"
     ]
    },
    {
     "name": "stdin",
     "output_type": "stream",
     "text": [
      "\n",
      "Command:  exit\n"
     ]
    },
    {
     "name": "stdout",
     "output_type": "stream",
     "text": [
      "\n",
      "Bye!\n"
     ]
    }
   ],
   "source": [
    "import csv\n",
    "\n",
    "sales = {}\n",
    "with open(\"monthly_sales.csv\", mode='r') as file:\n",
    "    reader = csv.reader(file)\n",
    "    for row in reader:\n",
    "        month, amount = row\n",
    "        sales[month] = int(amount)\n",
    "\n",
    "def view_m():\n",
    "    for month, amount in sales.items():\n",
    "        print(f\"{month} - {amount}\")\n",
    "\n",
    "def view_y():\n",
    "    print(f\"Yearly total:\\t{(total_sales := sum(sales.values()))}\\nMonthly average:\\t{(total_sales / 12):.2f}\")\n",
    "\n",
    "def edit():\n",
    "    month = input(\"Three-letter Month: \").capitalize()\n",
    "    if month not in sales:\n",
    "        print(\"Invalid month. Please enter a valid three-letter abbreviation.\")\n",
    "        return\n",
    "    amount = int(input(\"Sales Amount: \"))\n",
    "    sales[month] = amount\n",
    "    with open(\"monthly_sales.csv\", mode='w', newline='') as file:\n",
    "        writer = csv.writer(file)\n",
    "        for month, amount in sales.items():\n",
    "            writer.writerow([month, amount])\n",
    "    print(f\"Sales amount for {month} was modified.\")\n",
    "    \n",
    "\n",
    "def main():\n",
    "    print(\"Monthly Sales Program\\n\\nCOMMAND MENU\\nmonthly - View monthly sales\\nyearly - View yearly summary\\nedit - Edit sales for a month\\nexit - Exit program\")\n",
    "    while True:\n",
    "        command = input(\"\\nCommand: \")\n",
    "        match command:\n",
    "            case 'monthly': view_m()\n",
    "            case 'yearly': view_y()\n",
    "            case 'edit': edit()\n",
    "            case 'exit': break\n",
    "            case _: print(\"Not a valid command.\")\n",
    "    print(\"\\nBye!\")\n",
    "\n",
    "if __name__ == '__main__':\n",
    "    main()\n"
   ]
  },
  {
   "cell_type": "code",
   "execution_count": null,
   "metadata": {},
   "outputs": [],
   "source": []
  }
 ],
 "metadata": {
  "kernelspec": {
   "display_name": "Python 3 (ipykernel)",
   "language": "python",
   "name": "python3"
  },
  "language_info": {
   "codemirror_mode": {
    "name": "ipython",
    "version": 3
   },
   "file_extension": ".py",
   "mimetype": "text/x-python",
   "name": "python",
   "nbconvert_exporter": "python",
   "pygments_lexer": "ipython3",
   "version": "3.12.7"
  }
 },
 "nbformat": 4,
 "nbformat_minor": 4
}
