{
 "cells": [
  {
   "cell_type": "markdown",
   "metadata": {},
   "source": [
    "# Dictionaries\n",
    "\n",
    "To submit this assignment in D2l, post the link to your notebook file on your GitHub account."
   ]
  },
  {
   "cell_type": "markdown",
   "metadata": {},
   "source": [
    "## 12.1 Champion Counter\n",
    "Create a program that reads a text file that contains a list of FIFA World Cup champions and determines the country that has won the most championships.\n",
    "\n",
    "### Console:\n",
    "```powershell\n",
    "Country\t        Wins\tYears\t\n",
    "=======\t        ====\t=====\t\n",
    "Argentina       2       1978, 1986\n",
    "Brazil\t        5       1958, 1962, 1970, 1994, 2002\n",
    "England\t        1       1966\t\t\n",
    "France\t        1       1998\t\t\n",
    "Germany\t        4       1954, 1974, 1990, 2014\n",
    "Italy\t        4       1934, 1938, 1982, 2006\n",
    "Spain\t        1       2010\n",
    "Uruguay\t        2       1930, 1950\n",
    "```\n",
    "\n",
    "### Specifications:\n",
    "- Use the attached text file named `world_cup_champions.txt` that contains data like this: \n",
    "```powershell\n",
    "Year,Country,Coach,Captain \n",
    "1930,Uruguay,Alberto Suppici,José Nasazzi \n",
    "1934,Italy,Vittorio Pozzo,Gianpiero Combi \n",
    "1938,Italy,Vittorio Pozzo,Giuseppe Meazza\n",
    "...\n",
    "```\n",
    "- When the program starts, it should read the text file and use a dictionary to store the required data using the name of each country that has won the World Cup as the key.\n",
    "- The program should compile the data shown above and display the countries alphabetically.\n",
    "\n"
   ]
  },
  {
   "cell_type": "code",
   "execution_count": 27,
   "metadata": {},
   "outputs": [
    {
     "name": "stdout",
     "output_type": "stream",
     "text": [
      "Country\t\tWins\tYears\n",
      "======\t\t====\t=====\n",
      "Argentina      \t2\t1978, 1986\n",
      "Brazil         \t5\t1958, 1962, 1970, 1994, 2002\n",
      "England        \t1\t1966\n",
      "France         \t1\t1998\n",
      "Germany        \t4\t1954, 1974, 1990, 2014\n",
      "Italy          \t4\t1934, 1938, 1982, 2006\n",
      "Spain          \t1\t2010\n",
      "Uruguay        \t2\t1930, 1950\n"
     ]
    }
   ],
   "source": [
    "import csv\n",
    "\n",
    "def main():\n",
    "    wins = {}\n",
    "    with open(\"world_cup_champions.txt\", 'r') as file:\n",
    "        reader = csv.reader(file)\n",
    "        next(reader)\n",
    "        for row in reader:\n",
    "            year, country, _, _ = row\n",
    "            year = int(year)\n",
    "            if not country in wins:\n",
    "                wins[country] = {\"wins\": 1, \"years\": [year]}\n",
    "            else:\n",
    "                wins[country][\"wins\"] += 1\n",
    "                wins[country][\"years\"].append(year)\n",
    "\n",
    "    print(\"Country\\t\\tWins\\tYears\\n======\\t\\t====\\t=====\")\n",
    "    countries = sorted(wins.keys())\n",
    "    for country in countries:\n",
    "        print(f\"{country:<15}\\t{str(wins[country]['wins'])}\\t{', '.join(map(str, wins[country]['years']))}\")\n",
    "\n",
    "if __name__ == '__main__':\n",
    "    main()"
   ]
  },
  {
   "cell_type": "markdown",
   "metadata": {},
   "source": [
    "## 12.2 Monthly Sales\n",
    "Create a program that allows you to view and edit the sales amounts for each month of the current year.\n",
    "\n",
    "### Console:\n",
    "```powershell\n",
    "Monthly Sales program\n",
    "\n",
    "COMMAND MENU\n",
    "view\t- View sales for specified month \n",
    "edit\t- Edit sales for specified month \n",
    "totals - View sales summary for year \n",
    "exit\t- Exit program\n",
    "\n",
    "Command: view\n",
    "Three-letter Month: jan\n",
    "Sales amount for Jan is 14,317.00.\n",
    "\n",
    "Command: edit\n",
    "Three-letter Month: jan \n",
    "Sales Amount: 15293\n",
    "Sales amount for Jan is 15,293.00.\n",
    "\n",
    "Command: totals\n",
    "Yearly total: 67,855.00\n",
    "Monthly average: 5,654.58\n",
    "\n",
    "Command: view\n",
    "Three-letter Month: july \n",
    "Invalid three-letter month.\n",
    "\n",
    "Command: exit Bye!\n",
    "```\n",
    "\n",
    "### Specifications:\n",
    "- Use the attached text file named `monthly_sales.txt` that consists of rows that contain three-letter abbreviations for the month and the monthly sales.\n",
    "- The program should read the file and store the sales data for each month in a dictionary with the month abbreviation as the key for each item.\n",
    "- Whenever the sales data is edited, the program should write the changed data to the text file.\n",
    "\n",
    "\n"
   ]
  },
  {
   "cell_type": "code",
   "execution_count": 91,
   "metadata": {},
   "outputs": [
    {
     "name": "stdout",
     "output_type": "stream",
     "text": [
      "Monthly Sales program\n",
      "\n",
      "COMMAND MENU\n",
      "view\t- View sales for specified month\n",
      "edit\t- Edit sales for specified month\n",
      "totals\t- View sales summary for year\n",
      "exit\t- Exit program\n"
     ]
    },
    {
     "name": "stdin",
     "output_type": "stream",
     "text": [
      "\n",
      "Command: view\n",
      "Three-letter Month:  jan\n"
     ]
    },
    {
     "name": "stdout",
     "output_type": "stream",
     "text": [
      "Sales amount for Jan is 22.00.\n"
     ]
    },
    {
     "name": "stdin",
     "output_type": "stream",
     "text": [
      "\n",
      "Command: edit\n",
      "Three-letter Month:  jan\n",
      "Sales Amount:  15293\n"
     ]
    },
    {
     "name": "stdout",
     "output_type": "stream",
     "text": [
      "Sales amount for Jan is 15293.00.\n"
     ]
    },
    {
     "name": "stdin",
     "output_type": "stream",
     "text": [
      "\n",
      "Command: totals\n"
     ]
    },
    {
     "name": "stdout",
     "output_type": "stream",
     "text": [
      "Yearly total: 67855.00\n",
      "Monthly average 5654.58\n"
     ]
    },
    {
     "name": "stdin",
     "output_type": "stream",
     "text": [
      "\n",
      "Command: view\n",
      "Three-letter Month:  july\n"
     ]
    },
    {
     "name": "stdout",
     "output_type": "stream",
     "text": [
      "Invalid three-letter month! July\n"
     ]
    },
    {
     "name": "stdin",
     "output_type": "stream",
     "text": [
      "\n",
      "Command: exit\n"
     ]
    },
    {
     "name": "stdout",
     "output_type": "stream",
     "text": [
      "\n",
      "Bye!\n"
     ]
    }
   ],
   "source": [
    "sales = {}\n",
    "\n",
    "with open(\"monthly_sales.txt\", 'r') as file:\n",
    "    sales = {line.split()[0]: float(line.split()[1]) for line in file}\n",
    "\n",
    "def view():\n",
    "    month = input(\"Three-letter Month: \").capitalize()      \n",
    "    if not month in sales:\n",
    "        print(f\"Invalid three-letter month! {month}\")\n",
    "    else:\n",
    "        print(f\"Sales amount for {month} is {sales[month]:.2f}.\")\n",
    "\n",
    "def edit():\n",
    "    month = input(\"Three-letter Month: \").capitalize()\n",
    "    if not month in sales:\n",
    "        print(f\"Invalid three-letter month! {month}\")\n",
    "    else:\n",
    "        sales[month] = float(input(\"Sales Amount: \"))\n",
    "        with open(\"monthly_sales.txt\", 'w') as file:\n",
    "            for k, v in sales.items():\n",
    "                file.write(f\"{k}\\t{int(v)}\\n\")\n",
    "        print(f\"Sales amount for {month} is {sales[month]:.2f}.\")\n",
    "\n",
    "def totals():\n",
    "    print(f\"Yearly total: {(total := sum(sales.values())):.2f}\\nMonthly average {total / 12:.2f}\")\n",
    "\n",
    "def main():\n",
    "    print(\"Monthly Sales program\\n\\nCOMMAND MENU\\nview\\t- View sales for specified month\\nedit\\t- Edit sales for specified month\\ntotals\\t- View sales summary for year\\nexit\\t- Exit program\")\n",
    "    while True:\n",
    "        command = input(\"\\nCommand:\").lower()\n",
    "        match command:\n",
    "            case \"view\": view()\n",
    "            case \"edit\": edit()\n",
    "            case \"totals\": totals()\n",
    "            case \"exit\": break\n",
    "            case _: print(\"Invalid command!\")\n",
    "    print(\"\\nBye!\")      \n",
    "\n",
    "if __name__ == '__main__':\n",
    "    main()"
   ]
  },
  {
   "cell_type": "code",
   "execution_count": null,
   "metadata": {},
   "outputs": [],
   "source": []
  }
 ],
 "metadata": {
  "kernelspec": {
   "display_name": "Python 3 (ipykernel)",
   "language": "python",
   "name": "python3"
  },
  "language_info": {
   "codemirror_mode": {
    "name": "ipython",
    "version": 3
   },
   "file_extension": ".py",
   "mimetype": "text/x-python",
   "name": "python",
   "nbconvert_exporter": "python",
   "pygments_lexer": "ipython3",
   "version": "3.12.7"
  }
 },
 "nbformat": 4,
 "nbformat_minor": 4
}
