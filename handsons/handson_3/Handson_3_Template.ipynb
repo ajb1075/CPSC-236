{
 "cells": [
  {
   "cell_type": "markdown",
   "metadata": {},
   "source": [
    "# Functions\n",
    "\n",
    "To submit this assignment in D2l, post the link to your notebook file on your GitHub account."
   ]
  },
  {
   "cell_type": "markdown",
   "metadata": {},
   "source": [
    "## 4.1 Even or Odd Checker\n",
    "Create a program that checks whether a number is even or odd.\n",
    "\n",
    "### Console:\n",
    "```powershell\n",
    "Even or Odd Checker\n",
    "\n",
    "Enter an integer: 33\n",
    "This is an odd number.\n",
    "```\n",
    "\n",
    "### Specifications:\n",
    "- Store the code that gets user input and displays output in the main function.\n",
    "- Store the code that checks whether the number is even or odd in a separate function.\n",
    "- Assume that the user will enter a valid integer.\n"
   ]
  },
  {
   "cell_type": "code",
   "execution_count": 8,
   "metadata": {},
   "outputs": [
    {
     "name": "stdout",
     "output_type": "stream",
     "text": [
      "Even or Odd Checker\n"
     ]
    },
    {
     "name": "stdin",
     "output_type": "stream",
     "text": [
      "\n",
      "Enter an Integer:  33\n"
     ]
    },
    {
     "name": "stdout",
     "output_type": "stream",
     "text": [
      "This is an odd number.\n"
     ]
    }
   ],
   "source": [
    "def isEven(number: int) -> bool: return number % 2 == 0\n",
    "\n",
    "def app():\n",
    "    print(\"Even or Odd Checker\")\n",
    "    number = int(input(\"\\nEnter an Integer: \"))\n",
    "    print(\"This is an even number.\" if isEven(number) else \"This is an odd number.\")\n",
    "\n",
    "if __name__ == \"__main__\":\n",
    "    app()"
   ]
  },
  {
   "cell_type": "markdown",
   "metadata": {},
   "source": [
    "## 4.2 - Feet and Meters Converter\n",
    "Create a program that converts feet to meters and vice versa.\n",
    "\n",
    "### Console\n",
    "```powershell\n",
    "Feet and Meters Converter\n",
    "\n",
    "Conversions Menu:\n",
    "a.\tFeet to Meters\n",
    "b.\tMeters to Feet\n",
    "Select a conversion (a/b): a\n",
    "\n",
    "Enter feet: 100\n",
    "30.48 meters\n",
    "\n",
    "Would you like to perform another conversion? (y/n): y \n",
    "\n",
    "Conversions Menu:\n",
    "a.\tFeet to Meters\n",
    "b.\tMeters to Feet\n",
    "Select a conversion (a/b): b\n",
    "\n",
    "Enter meters: 100\n",
    "328.08 feet\n",
    "\n",
    "Would you like to perform another conversion? (y/n): n\n",
    "\n",
    "Thanks, bye!\n",
    "```\n",
    "\n",
    "### Specifications:\n",
    "- The formula for converting feet to meters is:\n",
    "`feet = meters / 0.3048`\n",
    "\n",
    "- The formula for converting meters to feet is:\n",
    "`meters = feet * 0.3048`\n",
    "\n",
    "- Store the code that performs the conversions in functions within a module. For example, store the code that converts feet to meters in a function in a module.\n",
    "- Store the code that displays the title in its own function, and store the code that displays the menu in its own function, but store the rest of the code that gets input and displays output in a main function.\n",
    "- Assume the user will enter valid data.\n",
    "- The program should round results to a maximum of two decimal places.\n",
    "\n",
    "\n"
   ]
  },
  {
   "cell_type": "code",
   "execution_count": 4,
   "metadata": {},
   "outputs": [
    {
     "name": "stdout",
     "output_type": "stream",
     "text": [
      "Feet and Meters Converter\n"
     ]
    },
    {
     "name": "stdin",
     "output_type": "stream",
     "text": [
      "\n",
      "Conversion Menu:\n",
      "A.\tFeet to Meters\n",
      "B.\tMeters to Feet\n",
      "Select an Option:  a\n",
      "\n",
      "Enter Feet:  100\n"
     ]
    },
    {
     "name": "stdout",
     "output_type": "stream",
     "text": [
      "30.48 meters\n"
     ]
    },
    {
     "name": "stdin",
     "output_type": "stream",
     "text": [
      "\n",
      "Would you like to perform another conversion? (y/n):  y\n",
      "\n",
      "Conversion Menu:\n",
      "A.\tFeet to Meters\n",
      "B.\tMeters to Feet\n",
      "Select an Option:  b\n",
      "\n",
      "Enter Meters:  100\n"
     ]
    },
    {
     "name": "stdout",
     "output_type": "stream",
     "text": [
      "328.08 feet\n"
     ]
    },
    {
     "name": "stdin",
     "output_type": "stream",
     "text": [
      "\n",
      "Would you like to perform another conversion? (y/n):  n\n"
     ]
    },
    {
     "name": "stdout",
     "output_type": "stream",
     "text": [
      "\n",
      "Thanks, Bye!\n"
     ]
    }
   ],
   "source": [
    "from ex2.conversions import *\n",
    "\n",
    "def app():\n",
    "    title()\n",
    "    while True:\n",
    "        option = menu()\n",
    "        if option.lower() == 'a':\n",
    "            feet = float(input(\"\\nEnter Feet: \"))\n",
    "            print(f\"{feet_to_meters(feet):.2f} meters\")\n",
    "        elif option.lower() == 'b':\n",
    "            meters = float(input(\"\\nEnter Meters: \"))\n",
    "            print(f\"{meters_to_feet(meters):.2f} feet\")\n",
    "        else:\n",
    "            continue\n",
    "\n",
    "        if input(\"\\nWould you like to perform another conversion? (y/n): \").lower() != 'y':\n",
    "            print(\"\\nThanks, Bye!\")\n",
    "            break\n",
    "    \n",
    "if __name__ == \"__main__\":\n",
    "    app()"
   ]
  },
  {
   "cell_type": "markdown",
   "metadata": {},
   "source": [
    "## 4.3 - Sales Tax Calculator\n",
    "Create a program that uses a separate module to calculate sales tax and total after tax.\n",
    "\n",
    "### Console\n",
    "```powershell\n",
    "Sales Tax Calculator\n",
    "\n",
    "ENTER ITEMS (ENTER 0 TO END)\n",
    "Cost of item: 35.99 \n",
    "Cost of item: 27.50 \n",
    "Cost of item: 19.59 \n",
    "Cost of item: 0 \n",
    "Total:  83.08\n",
    "Sales tax:\t4.98\n",
    "Total after tax: 88.06 \n",
    "\n",
    "Again? (y/n): y\n",
    "\n",
    "ENTER ITEMS (ENTER 0 TO END)\n",
    "Cost of item: 152.50 \n",
    "Cost of item: 59.80 \n",
    "Cost of item: 0\n",
    "Total:  212.3\n",
    "Sales tax:\t12.74\n",
    "Total after tax: 225.04 \n",
    "\n",
    "Again? (y/n): n\n",
    "\n",
    "Thanks, bye!\n",
    "\n",
    "```\n",
    "\n",
    "### Specifications\n",
    "- The sales tax rate should be 6% of the total.\n",
    "- Store the sales tax rate in a module. This module should also contain functions that calculate the sales tax and the total after tax. These functions should round the results to a maximum of two decimal places. Upload the seperate sales tax module to your GitHub repo when submitting.\n",
    "- Store the code that gets input and displays output in this notebook. Divide this code into functions wherever you think it would make that code easier to read and maintain.\n",
    "- Assume the user will enter valid data.\n",
    "\n"
   ]
  },
  {
   "cell_type": "code",
   "execution_count": 6,
   "metadata": {},
   "outputs": [
    {
     "name": "stdout",
     "output_type": "stream",
     "text": [
      "Sales Tax Calculator\n",
      "\n",
      "ENTER ITEMS (ENTER 0 TO END)\n"
     ]
    },
    {
     "name": "stdin",
     "output_type": "stream",
     "text": [
      "Cost of Item:  35.99\n",
      "Cost of Item:  27.50\n",
      "Cost of Item:  19.59\n",
      "Cost of Item:  0\n"
     ]
    },
    {
     "name": "stdout",
     "output_type": "stream",
     "text": [
      "Total: 83.08\n",
      "Sales tax: 4.98\n",
      "Total after tax: 88.06\n"
     ]
    },
    {
     "name": "stdin",
     "output_type": "stream",
     "text": [
      "\n",
      "Again? (y/n):  y\n"
     ]
    },
    {
     "name": "stdout",
     "output_type": "stream",
     "text": [
      "\n",
      "ENTER ITEMS (ENTER 0 TO END)\n"
     ]
    },
    {
     "name": "stdin",
     "output_type": "stream",
     "text": [
      "Cost of Item:  152.50\n",
      "Cost of Item:  59.80\n",
      "Cost of Item:  0\n"
     ]
    },
    {
     "name": "stdout",
     "output_type": "stream",
     "text": [
      "Total: 212.30\n",
      "Sales tax: 12.74\n",
      "Total after tax: 225.04\n"
     ]
    },
    {
     "name": "stdin",
     "output_type": "stream",
     "text": [
      "\n",
      "Again? (y/n):  n\n"
     ]
    },
    {
     "name": "stdout",
     "output_type": "stream",
     "text": [
      "\n",
      "Thanks, Bye!\n"
     ]
    }
   ],
   "source": [
    "from ex3.sales import *\n",
    "\n",
    "def app():\n",
    "    print(\"Sales Tax Calculator\")\n",
    "    while True:\n",
    "        print(\"\\nENTER ITEMS (ENTER 0 TO END)\")\n",
    "        \n",
    "        items = []\n",
    "        while True:\n",
    "            items.append(float(input(\"Cost of Item: \")))\n",
    "            if items[-1] == 0: \n",
    "                break\n",
    "        \n",
    "        subtotal = sum(items)\n",
    "        tax, total = sales_tax(subtotal)\n",
    "        print(f\"Total: {subtotal:.2f}\\nSales tax: {tax:.2f}\\nTotal after tax: {total:.2f}\")\n",
    "        \n",
    "        if input(\"\\nAgain? (y/n): \").lower() != 'y':\n",
    "            print(\"\\nThanks, Bye!\")\n",
    "            break\n",
    "            \n",
    "if __name__ == '__main__':\n",
    "    app()"
   ]
  },
  {
   "cell_type": "markdown",
   "metadata": {},
   "source": [
    "## 4.4 - Prime Number Checker\n",
    "Create a program that checks whether a number is a prime number and displays the total number of factors if it is not a prime number.\n",
    "\n",
    "### Console\n",
    "```powershell\n",
    "Prime Number Checker\n",
    "\n",
    "Please enter an integer between 1 and 5000: 1 \n",
    "Invalid integer. Please try again.\n",
    "Please enter an integer between 1 and 5000: 2\n",
    "2 is a prime number. \n",
    "\n",
    "Try again? (y/n): y\n",
    "\n",
    "Please enter an integer between 1 and 5000: 3\n",
    "3 is a prime number.\n",
    "\n",
    "Try again? (y/n): y\n",
    "\n",
    "Please enter an integer between 1 and 5000: 4\n",
    "4 is NOT a prime number.\n",
    "It has 3 factors.\n",
    "\n",
    "Try again? (y/n): y\n",
    "\n",
    "Please enter an integer between 1 and 5000: 6\n",
    "6 is NOT a prime number.\n",
    "It has 4 factors.\n",
    "\n",
    "Try again? (y/n): n\n",
    "\n",
    "Bye!\n",
    "```\n",
    "\n",
    "### Specifications\n",
    "- A prime number is only divisible by two factors (1 and itself). For example, 7 is a prime number because it is only divisible by 1 and 7.\n",
    "- If the number is not a prime number, the program should display its number of factors. For example, 6 has four factors (1, 2, 3, and 6).\n",
    "- Store the code that gets a valid integer for this program in its own function.\n",
    "- Store the code that calculates the number of factors for a number in its own function.\n",
    "- Store the rest of the code that gets input and displays output in the main function.\n",
    "\n"
   ]
  },
  {
   "cell_type": "code",
   "execution_count": 8,
   "metadata": {},
   "outputs": [
    {
     "name": "stdout",
     "output_type": "stream",
     "text": [
      "Prime Number Checker\n"
     ]
    },
    {
     "name": "stdin",
     "output_type": "stream",
     "text": [
      "Please enter an integer between 1 and 5000:  1\n"
     ]
    },
    {
     "name": "stdout",
     "output_type": "stream",
     "text": [
      "Invalid integer. Please try again.\n"
     ]
    },
    {
     "name": "stdin",
     "output_type": "stream",
     "text": [
      "Please enter an integer between 1 and 5000:  2\n"
     ]
    },
    {
     "name": "stdout",
     "output_type": "stream",
     "text": [
      "2 is a prime number.\n"
     ]
    },
    {
     "name": "stdin",
     "output_type": "stream",
     "text": [
      "\n",
      "Try Again? (y/n):  y\n"
     ]
    },
    {
     "name": "stdout",
     "output_type": "stream",
     "text": [
      "\n"
     ]
    },
    {
     "name": "stdin",
     "output_type": "stream",
     "text": [
      "Please enter an integer between 1 and 5000:  3\n"
     ]
    },
    {
     "name": "stdout",
     "output_type": "stream",
     "text": [
      "3 is a prime number.\n"
     ]
    },
    {
     "name": "stdin",
     "output_type": "stream",
     "text": [
      "\n",
      "Try Again? (y/n):  y\n"
     ]
    },
    {
     "name": "stdout",
     "output_type": "stream",
     "text": [
      "\n"
     ]
    },
    {
     "name": "stdin",
     "output_type": "stream",
     "text": [
      "Please enter an integer between 1 and 5000:  4\n"
     ]
    },
    {
     "name": "stdout",
     "output_type": "stream",
     "text": [
      "4 is NOT a prime number.\n",
      "It has 3 factors.\n"
     ]
    },
    {
     "name": "stdin",
     "output_type": "stream",
     "text": [
      "\n",
      "Try Again? (y/n):  y\n"
     ]
    },
    {
     "name": "stdout",
     "output_type": "stream",
     "text": [
      "\n"
     ]
    },
    {
     "name": "stdin",
     "output_type": "stream",
     "text": [
      "Please enter an integer between 1 and 5000:  6\n"
     ]
    },
    {
     "name": "stdout",
     "output_type": "stream",
     "text": [
      "6 is NOT a prime number.\n",
      "It has 4 factors.\n"
     ]
    },
    {
     "name": "stdin",
     "output_type": "stream",
     "text": [
      "\n",
      "Try Again? (y/n):  n\n"
     ]
    },
    {
     "name": "stdout",
     "output_type": "stream",
     "text": [
      "\n",
      "Thanks, Bye!\n"
     ]
    }
   ],
   "source": [
    "from ex4.primes import *\n",
    "\n",
    "def app():\n",
    "    print(\"Prime Number Checker\")\n",
    "    while True:\n",
    "        number = int(input(\"Please enter an integer between 1 and 5000: \"))\n",
    "        \n",
    "        if not valid(number):\n",
    "            print(\"Invalid integer. Please try again.\")\n",
    "            continue\n",
    "            \n",
    "        prime, num_factors = is_prime(number)\n",
    "        print(f\"{number} is{\" NOT\" if not prime else ''} a prime number.{f\"\\nIt has {num_factors} factors.\" if not prime else ''}\")\n",
    "        \n",
    "        if input(\"\\nTry Again? (y/n): \").lower() != 'y':\n",
    "            print(\"\\nThanks, Bye!\")\n",
    "            break\n",
    "\n",
    "        print()\n",
    "\n",
    "if __name__ == '__main__':\n",
    "    app()"
   ]
  },
  {
   "cell_type": "code",
   "execution_count": null,
   "metadata": {},
   "outputs": [],
   "source": []
  }
 ],
 "metadata": {
  "kernelspec": {
   "display_name": "Python 3 (ipykernel)",
   "language": "python",
   "name": "python3"
  },
  "language_info": {
   "codemirror_mode": {
    "name": "ipython",
    "version": 3
   },
   "file_extension": ".py",
   "mimetype": "text/x-python",
   "name": "python",
   "nbconvert_exporter": "python",
   "pygments_lexer": "ipython3",
   "version": "3.12.7"
  }
 },
 "nbformat": 4,
 "nbformat_minor": 4
}
