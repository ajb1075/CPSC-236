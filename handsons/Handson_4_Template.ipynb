{
 "cells": [
  {
   "cell_type": "markdown",
   "metadata": {},
   "source": [
    "# List and Tuples\n",
    "\n",
    "To submit this assignment in D2l, post the link to your notebook file on your GitHub account."
   ]
  },
  {
   "cell_type": "markdown",
   "metadata": {},
   "source": [
    "## 6.1 Prime Number Checker\n",
    "Create a program that checks whether a number is a prime number and displays its factors if it is not a prime number.\n",
    "\n",
    "### Console:\n",
    "```powershell\n",
    "Prime Number Checker\n",
    "\n",
    "Please enter an integer between 1 and 5000: 5\n",
    "5 is a prime number.\n",
    "\n",
    "Try again? (y/n): y\n",
    "\n",
    "Please enter an integer between 1 and 5000: 6\n",
    "6 is NOT a prime number.\n",
    "It has 4 factors: 1 2 3 6\n",
    "\n",
    "Try again? (y/n): y\n",
    "\n",
    "Please enter an integer between 1 and 5000: 200\n",
    "200 is NOT a prime number.\n",
    "It has 12 factors: 1 2 4 5 8 10 20 25 40 50 100 200\n",
    "\n",
    "Try again? (y/n): n\n",
    "\n",
    "Bye!\n",
    "```\n",
    "\n",
    "### Specifications:\n",
    "- A prime number is divisible by two factors (1 and itself). For example, 7 is a prime number because it is only divisible by 1 and 7.\n",
    "- If the user enters an integer that's not between 1 and 5000, the program should display an error message.\n",
    "- If the number is a prime number, the program should display a message.\n",
    "If the number is not a prime number, the program should display a message. Then, it should display the number of factors for the number and a list of those factors.\n",
    "- Store the factors for each number in a list.\n",
    "- Use functions to organize the code for this program.\n"
   ]
  },
  {
   "cell_type": "code",
   "execution_count": 27,
   "metadata": {},
   "outputs": [
    {
     "name": "stdout",
     "output_type": "stream",
     "text": [
      "Prime Number Checker\n"
     ]
    },
    {
     "name": "stdin",
     "output_type": "stream",
     "text": [
      "\n",
      "Please enter an integer between 1 and 5000:  5\n"
     ]
    },
    {
     "name": "stdout",
     "output_type": "stream",
     "text": [
      "5 is a prime number.\n"
     ]
    },
    {
     "name": "stdin",
     "output_type": "stream",
     "text": [
      "\n",
      "Try again? (y/n) y\n",
      "\n",
      "Please enter an integer between 1 and 5000:  6\n"
     ]
    },
    {
     "name": "stdout",
     "output_type": "stream",
     "text": [
      "6 is NOT a prime number.\n",
      "It has 4 factors: 1 2 3 6\n"
     ]
    },
    {
     "name": "stdin",
     "output_type": "stream",
     "text": [
      "\n",
      "Try again? (y/n) y\n",
      "\n",
      "Please enter an integer between 1 and 5000:  200\n"
     ]
    },
    {
     "name": "stdout",
     "output_type": "stream",
     "text": [
      "200 is NOT a prime number.\n",
      "It has 12 factors: 1 2 4 5 8 10 20 25 40 50 100 200\n"
     ]
    },
    {
     "name": "stdin",
     "output_type": "stream",
     "text": [
      "\n",
      "Try again? (y/n) n\n"
     ]
    },
    {
     "name": "stdout",
     "output_type": "stream",
     "text": [
      "\n",
      "Bye!\n"
     ]
    }
   ],
   "source": [
    "def is_prime(number: int) -> (bool, [str], int): \n",
    "    return (length := len(factors := [str(i) for i in range(1, number + 1) if number % i == 0])) == 2, factors, length\n",
    "\n",
    "if __name__ == '__main__':\n",
    "    print(\"Prime Number Checker\")\n",
    "\n",
    "    while True:\n",
    "        number = int(input(\"\\nPlease enter an integer between 1 and 5000: \"))\n",
    "        if 1 > number > 5000:\n",
    "            print(\"Error: value is out of range!\")\n",
    "            continue\n",
    "\n",
    "        prime, factors, num_factors = is_prime(number)\n",
    "\n",
    "        print(f\"{number} is{\" NOT\" if not prime else ''} a prime number.{f\"\\nIt has {num_factors} factors: {' '.join(factors)}\" if not prime else ''}\")\n",
    "\n",
    "        if input(\"\\nTry again? (y/n)\").lower() != 'y':\n",
    "            print(\"\\nBye!\")\n",
    "            break\n",
    "        "
   ]
  },
  {
   "cell_type": "markdown",
   "metadata": {},
   "source": [
    "## 6.2 - Contact Manager\n",
    "Create a program that a user can use to manage the primary email address and phone number for a contact.\n",
    "\n",
    "### Console\n",
    "```powershell\n",
    "Contact Manager\n",
    "\n",
    "COMMAND MENU\n",
    "list - Display all contacts\n",
    "view - View a contact\n",
    "add - Add a contact\n",
    "del - Delete a contact\n",
    "exit - Exit program\n",
    "\n",
    "Command: list\n",
    "1. Guido van Rossum\n",
    "2. Eric Idle\n",
    "\n",
    "Command: view\n",
    "Number: 2\n",
    "Name: Eric Idle\n",
    "Email: eric@ericidle.com\n",
    "Phone: +44 20 7946 0958\n",
    "\n",
    "Command: add\n",
    "Name: Mike Murach\n",
    "Email: mike@murach.com\n",
    "Phone: 559-123-4567\n",
    "Mike Murach was added.\n",
    "\n",
    "Command: del\n",
    "Number: 1\n",
    "Guido van Rossum was deleted.\n",
    "\n",
    "Command: list\n",
    "1. Eric Idle\n",
    "2. Mike Murach\n",
    "\n",
    "Command: exit\n",
    "Bye!\n",
    "```\n",
    "\n",
    "### Specifications:\n",
    "- Use a list of lists to store the data for the contacts. Provide starting data for two or more contacts.\n",
    "- For the `view` and `del` commands, display an error message if the user enters and invalid contact number.\n",
    "- When you exit the program, all changes that you made to the contact list are lost.\n",
    "\n",
    "\n"
   ]
  },
  {
   "cell_type": "code",
   "execution_count": 26,
   "metadata": {},
   "outputs": [
    {
     "name": "stdout",
     "output_type": "stream",
     "text": [
      "Contact Manager\n",
      "\n",
      "COMMAND MENU\n",
      "list - Display all contacts\n",
      "view - View a contact\n",
      "add - Add a contact\n",
      "del - Delete a contact\n",
      "exit - Exit program\n"
     ]
    },
    {
     "name": "stdin",
     "output_type": "stream",
     "text": [
      "\n",
      "Command:  list\n"
     ]
    },
    {
     "name": "stdout",
     "output_type": "stream",
     "text": [
      "1. Guido van Rossum\n",
      "2. Eric Idle\n"
     ]
    },
    {
     "name": "stdin",
     "output_type": "stream",
     "text": [
      "\n",
      "Command:  view\n",
      "Number:  2\n"
     ]
    },
    {
     "name": "stdout",
     "output_type": "stream",
     "text": [
      "Name: Eric Idle\n",
      "Email: eric@ericidle.com\n",
      "Phone: +44 20 7946 0958\n"
     ]
    },
    {
     "name": "stdin",
     "output_type": "stream",
     "text": [
      "\n",
      "Command:  add\n",
      "Name:  Mike Murach\n",
      "Email:  mike@murach.com\n",
      "Phone:  559-123-4567\n"
     ]
    },
    {
     "name": "stdout",
     "output_type": "stream",
     "text": [
      "Mike Murach was added.\n"
     ]
    },
    {
     "name": "stdin",
     "output_type": "stream",
     "text": [
      "\n",
      "Command:  del\n",
      "Number:  1\n"
     ]
    },
    {
     "name": "stdout",
     "output_type": "stream",
     "text": [
      "Guido van Rossum was deleted.\n"
     ]
    },
    {
     "name": "stdin",
     "output_type": "stream",
     "text": [
      "\n",
      "Command:  list\n"
     ]
    },
    {
     "name": "stdout",
     "output_type": "stream",
     "text": [
      "1. Eric Idle\n",
      "2. Mike Murach\n"
     ]
    },
    {
     "name": "stdin",
     "output_type": "stream",
     "text": [
      "\n",
      "Command:  exit\n"
     ]
    },
    {
     "name": "stdout",
     "output_type": "stream",
     "text": [
      "Bye!\n"
     ]
    }
   ],
   "source": [
    "import sys\n",
    "\n",
    "contacts = [\n",
    "    [\"Guido van Rossum\", \"guido@rossum.com\", \"444-442-9484\"],\n",
    "    [\"Eric Idle\", \"eric@ericidle.com\", \"+44 20 7946 0958\"]\n",
    "]\n",
    "\n",
    "def list():\n",
    "    print('\\n'.join([f\"{idx + 1}. {item[0]}\" for idx, item in enumerate(contacts)]))\n",
    "\n",
    "def view():\n",
    "    idx = int(input(\"Number: \")) - 1\n",
    "    if not idx in range(len(contacts)):\n",
    "        print(\"Invalid index!\")\n",
    "    else:\n",
    "        print(f\"Name: {contacts[idx][0]}\\nEmail: {contacts[idx][1]}\\nPhone: {contacts[idx][2]}\")\n",
    "\n",
    "def add():\n",
    "    while True:\n",
    "        name = input(\"Name: \")\n",
    "        if name != '':\n",
    "            break\n",
    "        print(\"Name must not be empty!\")\n",
    "    email = input(\"Email: \")\n",
    "    phone = input(\"Phone: \")\n",
    "    contacts.append([name, email, phone])\n",
    "    print(f\"{name} was added.\")\n",
    "        \n",
    "def delete():\n",
    "    idx = int(input(\"Number: \")) - 1\n",
    "    if not idx in range(len(contacts)):\n",
    "        print(\"Invalid index!\")\n",
    "    else:\n",
    "        print(f\"{contacts.pop(idx)[0]} was deleted.\")\n",
    "\n",
    "commands = {'list': list, 'view': view, 'add': add, 'del': delete, 'exit': ''}\n",
    "\n",
    "def menu() -> int:\n",
    "    print(\"Contact Manager\\n\\nCOMMAND MENU\\nlist - Display all contacts\\nview - View a contact\\nadd - Add a contact\\ndel - Delete a contact\\nexit - Exit program\")\n",
    "    while True:\n",
    "        opt = input(\"\\nCommand: \")\n",
    "        if not opt in commands:\n",
    "            print(\"Invalid command!\")\n",
    "        elif opt == 'exit':\n",
    "            print(\"Bye!\")\n",
    "            break\n",
    "        else:\n",
    "            commands[opt]()\n",
    "\n",
    "if __name__ == '__main__':\n",
    "    menu()"
   ]
  },
  {
   "cell_type": "code",
   "execution_count": null,
   "metadata": {},
   "outputs": [],
   "source": []
  }
 ],
 "metadata": {
  "kernelspec": {
   "display_name": "Python 3 (ipykernel)",
   "language": "python",
   "name": "python3"
  },
  "language_info": {
   "codemirror_mode": {
    "name": "ipython",
    "version": 3
   },
   "file_extension": ".py",
   "mimetype": "text/x-python",
   "name": "python",
   "nbconvert_exporter": "python",
   "pygments_lexer": "ipython3",
   "version": "3.12.7"
  }
 },
 "nbformat": 4,
 "nbformat_minor": 4
}
